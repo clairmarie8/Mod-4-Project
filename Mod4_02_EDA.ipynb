{
 "cells": [
  {
   "cell_type": "markdown",
   "metadata": {},
   "source": [
    "# Processing & Visualization Functions"
   ]
  },
  {
   "cell_type": "code",
   "execution_count": 5,
   "metadata": {},
   "outputs": [],
   "source": [
    "def get_codes_data(df, codes):\n",
    "    \"\"\"\n",
    "    Filter DataFrame to show certain zipcodes.\n",
    "    \n",
    "    Arguments:\n",
    "    df -- cleaned Pandas DataFrame in Long format.\n",
    "    codes -- list of zipcodes to keep in output DataFrame.\n",
    "    \n",
    "    Return:\n",
    "    Pandas DataFrame containing data for the zipcodes contained in 'codes'\n",
    "    \"\"\"\n",
    "    #Filter df to keep data for selected zipcodes\n",
    "    top_df = df[df['zipcode'].isin(codes)]\n",
    "    \n",
    "    #Filter out data from 2020.\n",
    "    top_df = df.loc[df['time'].dt.year != 2020]\n",
    "    \n",
    "    #Set time as index\n",
    "    top_df.set_index('time', inplace=True)\n",
    "    \n",
    "    #Drop unneeded columns\n",
    "    top_df = top_df[['zipcode', 'value']]\n",
    "    \n",
    "    return top_df"
   ]
  },
  {
   "cell_type": "code",
   "execution_count": 6,
   "metadata": {},
   "outputs": [],
   "source": [
    "def split_data_by_code(top_df, codes):\n",
    "    \"\"\"\n",
    "    Split DataFrame into smaller DataFrames, each containing data for one zipcode.\n",
    "    \n",
    "    Arguments:\n",
    "    top_df -- DataFrame containing data for zipcodes you want to separate.\n",
    "    codes -- list of zipcodes.  A DataFrame will be created for each item in the list.\n",
    "    \n",
    "    Return:\n",
    "    List of DataFrames where each DataFrame corresponds to data from one zipcode contained in 'codes'\n",
    "    \"\"\"\n",
    "    df_list = []\n",
    "    for i in range(len(codes)):\n",
    "        df_list.append(top_df.loc[top_df['zipcode'] == codes[i]].drop('zipcode', axis=1))\n",
    "        \n",
    "    return df_list"
   ]
  },
  {
   "cell_type": "code",
   "execution_count": 7,
   "metadata": {},
   "outputs": [],
   "source": [
    "def ts_train_test_split(df_list, train_percent):\n",
    "    \"\"\"\n",
    "    Split each DataFrame in df_list into train and test sets.\n",
    "    \n",
    "    Arguments:\n",
    "    df_list -- list of DataFrames, each containing data for one zipcode\n",
    "    train_percent -- float representing the % of data that should be allocated to the training set.\n",
    "    \n",
    "    Return:\n",
    "    train_list -- list of DataFrames, each containing training data for one zipcode\n",
    "    test_list -- list of DataFrames, each containing test data for one zipcode\n",
    "    \"\"\"\n",
    "    train_list = []\n",
    "    test_list = []\n",
    "    \n",
    "    for i in range(len(df_list)):\n",
    "        train = df_list[i][:round(df_list[i].shape[0]*train_percent)]\n",
    "        train_list.append(train)\n",
    "        \n",
    "        test = df_list[i][round(df_list[i].shape[0]*train_percent):]\n",
    "        test_list.append(test)\n",
    "    \n",
    "    return train_list, test_list"
   ]
  },
  {
   "cell_type": "code",
   "execution_count": 8,
   "metadata": {},
   "outputs": [],
   "source": [
    "def plot_trends(df_list, codes):\n",
    "    \"\"\"\n",
    "    Plot line graphs for DataFrames contained in df_list.\n",
    "    \n",
    "    Arguments:\n",
    "    df_list -- list of DataFrames, each containing data for one zipcode\n",
    "    codes -- list of zipcodes, each corresponding to one element in 'df_list'\n",
    "    \n",
    "    Return:\n",
    "    No return value.  Prints a line graph.\n",
    "    \"\"\"\n",
    "    for i in range(len(codes)):\n",
    "        df_list[i]['value'].plot(label=codes[i], figsize=(15, 6))\n",
    "        plt.legend()"
   ]
  }
 ],
 "metadata": {
  "kernelspec": {
   "display_name": "tf2-1",
   "language": "python",
   "name": "tf2-1"
  },
  "language_info": {
   "codemirror_mode": {
    "name": "ipython",
    "version": 3
   },
   "file_extension": ".py",
   "mimetype": "text/x-python",
   "name": "python",
   "nbconvert_exporter": "python",
   "pygments_lexer": "ipython3",
   "version": "3.7.7"
  }
 },
 "nbformat": 4,
 "nbformat_minor": 4
}
